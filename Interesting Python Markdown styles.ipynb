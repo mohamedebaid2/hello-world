{
 "cells": [
  {
   "cell_type": "markdown",
   "metadata": {},
   "source": [
    "Double click **here** for the answer\n",
    "<!-- the correct answer is:\n",
    "It helps to identify the goal\n",
    "-->"
   ]
  },
  {
   "cell_type": "markdown",
   "metadata": {},
   "source": [
    "Click here to see the magic \n",
    "<!-- The Magic -->"
   ]
  },
  {
   "cell_type": "markdown",
   "metadata": {},
   "source": [
    "I can insert image \n",
    "<img src=\"https://cdn.imgbin.com/8/24/11/imgbin-genie-princess-jasmine-iago-abu-jafar-aladdin-aladdin-genie-55ixnazKbnD14HM4JtQKzQyZ3.jpg\"\n",
    "width=250>"
   ]
  },
  {
   "cell_type": "raw",
   "metadata": {},
   "source": [
    "Your answer is:\n",
    "1.\n",
    "2.\n",
    "3."
   ]
  },
  {
   "cell_type": "markdown",
   "metadata": {},
   "source": [
    "Click __Here__ to see the correct answer\n",
    "<!-- good luck -->"
   ]
  },
  {
   "cell_type": "markdown",
   "metadata": {},
   "source": [
    "# Decision Tree is the general configuration of a Machine Learning Algorithm"
   ]
  },
  {
   "cell_type": "markdown",
   "metadata": {},
   "source": [
    "## It consists of:"
   ]
  },
  {
   "cell_type": "markdown",
   "metadata": {},
   "source": [
    "* Root: contains all the data input\n",
    "* Decision mode: how the machine is going to make the decision\n",
    "* Branching: contains the different answers based on the different variables \n",
    "* Leaf Nodes: the final decision"
   ]
  },
  {
   "cell_type": "code",
   "execution_count": 2,
   "metadata": {},
   "outputs": [
    {
     "name": "stdout",
     "output_type": "stream",
     "text": [
      "Python 3.6.10\n"
     ]
    }
   ],
   "source": [
    "# check python version\n",
    "!python -V"
   ]
  },
  {
   "cell_type": "code",
   "execution_count": null,
   "metadata": {},
   "outputs": [],
   "source": []
  }
 ],
 "metadata": {
  "kernelspec": {
   "display_name": "Python",
   "language": "python",
   "name": "conda-env-python-py"
  },
  "language_info": {
   "codemirror_mode": {
    "name": "ipython",
    "version": 3
   },
   "file_extension": ".py",
   "mimetype": "text/x-python",
   "name": "python",
   "nbconvert_exporter": "python",
   "pygments_lexer": "ipython3",
   "version": "3.6.10"
  }
 },
 "nbformat": 4,
 "nbformat_minor": 4
}
